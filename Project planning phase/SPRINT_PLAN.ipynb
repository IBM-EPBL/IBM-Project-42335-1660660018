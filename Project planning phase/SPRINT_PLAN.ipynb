{
 "cells": [
  {
   "cell_type": "markdown",
   "metadata": {
    "id": "7com28W55pHk"
   },
   "source": [
    "*AI-Powered Nutrition Analyzer For Fitness Enthusiasts*\n",
    "**Team ID PNT2022TMID43392** **--SPRINT1--**"
   ]
  },
  {
   "cell_type": "markdown",
   "metadata": {
    "id": "whbZ5Uw35pHw"
   },
   "source": [
    "**IMPORTING LIBRARIES**"
   ]
  },
  {
   "cell_type": "code",
   "execution_count": 1,
   "metadata": {
    "id": "60eg6zmo5pHx"
   },
   "outputs": [],
   "source": [
    "import numpy as np\n",
    "import tensorflow \n",
    "from keras.preprocessing.image import ImageDataGenerator\n",
    "from tensorflow.keras.layers import Conv2D,MaxPooling2D,Dropout \n",
    "from tensorflow.keras import layers \n",
    "from tensorflow.keras.layers import Dense,Flatten\n",
    "from tensorflow.keras.models import Sequential "
   ]
  },
  {
   "cell_type": "markdown",
   "metadata": {
    "id": "vnVt93M05pH0"
   },
   "source": [
    "**IMAGE DATA AUGMENTATION**"
   ]
  },
  {
   "cell_type": "code",
   "execution_count": 2,
   "metadata": {
    "id": "-VLZKCTd5pH1"
   },
   "outputs": [],
   "source": [
    "train = ImageDataGenerator(rescale=1./255,shear_range=0.2,zoom_range=0.2,horizontal_flip=True)\n",
    "test=ImageDataGenerator(rescale=1./255)"
   ]
  },
  {
   "cell_type": "code",
   "execution_count": 3,
   "metadata": {
    "id": "8Hkc9ffd5pH5",
    "outputId": "f2f3a171-41c1-4f1c-e125-781a47760b45"
   },
   "outputs": [
    {
     "name": "stdout",
     "output_type": "stream",
     "text": [
      "Found 2626 images belonging to 5 classes.\n",
      "Found 1055 images belonging to 5 classes.\n"
     ]
    }
   ],
   "source": [
    "x_train = train.flow_from_directory(\n",
    "    r'C:\\Users\\Naveena\\Desktop\\IBM\\datasets\\Nutrition Analysis Using Image Classification-20221008T183521Z-001\\Nutrition Analysis Using Image Classification\\Dataset\\TRAIN_SET',\n",
    "    target_size=(64, 64),batch_size=5,color_mode='rgb',class_mode='sparse')\n",
    "x_test = test.flow_from_directory(\n",
    "    r'C:\\Users\\Naveena\\Desktop\\IBM\\datasets\\Nutrition Analysis Using Image Classification-20221008T183521Z-001\\Nutrition Analysis Using Image Classification\\Dataset\\TEST_SET',\n",
    "    target_size=(64, 64),batch_size=5,color_mode='rgb',class_mode='sparse') "
   ]
  },
  {
   "cell_type": "code",
   "execution_count": 4,
   "metadata": {
    "id": "szwYFmls5pH8",
    "outputId": "be341c75-9d14-446a-c340-8158106647ac"
   },
   "outputs": [
    {
     "name": "stdout",
     "output_type": "stream",
     "text": [
      "{'APPLES': 0, 'BANANA': 1, 'ORANGE': 2, 'PINEAPPLE': 3, 'WATERMELON': 4}\n"
     ]
    }
   ],
   "source": [
    "print(x_train.class_indices)"
   ]
  },
  {
   "cell_type": "code",
   "execution_count": 5,
   "metadata": {
    "id": "8SliKn605pH-",
    "outputId": "56cad51d-fcd8-4aca-d0b0-ed3b3c492b7e"
   },
   "outputs": [
    {
     "name": "stdout",
     "output_type": "stream",
     "text": [
      "{'APPLES': 0, 'BANANA': 1, 'ORANGE': 2, 'PINEAPPLE': 3, 'WATERMELON': 4}\n"
     ]
    }
   ],
   "source": [
    "print(x_test.class_indices)"
   ]
  },
  {
   "cell_type": "code",
   "execution_count": 6,
   "metadata": {
    "id": "yWWDoRDw5pIA",
    "outputId": "5e13f553-81ed-410f-b80d-35a378902983"
   },
   "outputs": [
    {
     "data": {
      "text/plain": [
       "Counter({0: 606, 1: 445, 2: 479, 3: 621, 4: 475})"
      ]
     },
     "execution_count": 6,
     "metadata": {},
     "output_type": "execute_result"
    }
   ],
   "source": [
    "from collections import Counter as c\n",
    "c(x_train .labels)"
   ]
  },
  {
   "cell_type": "markdown",
   "metadata": {
    "id": "l3R_JW4b5pIC"
   },
   "source": [
    "**CREATING THE MODEL**"
   ]
  },
  {
   "cell_type": "code",
   "execution_count": 7,
   "metadata": {
    "id": "eejmbWX75pID"
   },
   "outputs": [],
   "source": [
    "# Initializing the CNN\n",
    "classifier = Sequential()\n",
    "\n",
    "# First convolution layer and pooling\n",
    "classifier.add(Conv2D(32, (3, 3), input_shape=(64, 64, 3), activation='relu'))\n",
    "classifier.add(MaxPooling2D(pool_size=(2, 2)))\n",
    "\n",
    "# Second convolution layer and pooling\n",
    "classifier.add(Conv2D(32, (3, 3), activation='relu'))\n",
    "\n",
    "# input_shape is going to be the pooled feature maps from the previous convolution layer\n",
    "classifier.add(MaxPooling2D(pool_size=(2, 2)))\n",
    "\n",
    "# Flattening the layers\n",
    "classifier.add(Flatten())\n",
    "\n",
    "# Adding a fully connected layer\n",
    "classifier.add(Dense(units=128, activation='relu'))\n",
    "classifier.add(Dense(units=5, activation='softmax')) # softmax for more than 2\n",
    "\n"
   ]
  },
  {
   "cell_type": "code",
   "execution_count": 8,
   "metadata": {
    "id": "QNCisXGE5pIE",
    "outputId": "3753599e-dc4d-4005-b574-50e3c2efc1fb"
   },
   "outputs": [
    {
     "name": "stdout",
     "output_type": "stream",
     "text": [
      "Model: \"sequential\"\n",
      "_________________________________________________________________\n",
      "Layer (type)                 Output Shape              Param #   \n",
      "=================================================================\n",
      "conv2d (Conv2D)              (None, 62, 62, 32)        896       \n",
      "_________________________________________________________________\n",
      "max_pooling2d (MaxPooling2D) (None, 31, 31, 32)        0         \n",
      "_________________________________________________________________\n",
      "conv2d_1 (Conv2D)            (None, 29, 29, 32)        9248      \n",
      "_________________________________________________________________\n",
      "max_pooling2d_1 (MaxPooling2 (None, 14, 14, 32)        0         \n",
      "_________________________________________________________________\n",
      "flatten (Flatten)            (None, 6272)              0         \n",
      "_________________________________________________________________\n",
      "dense (Dense)                (None, 128)               802944    \n",
      "_________________________________________________________________\n",
      "dense_1 (Dense)              (None, 5)                 645       \n",
      "=================================================================\n",
      "Total params: 813,733\n",
      "Trainable params: 813,733\n",
      "Non-trainable params: 0\n",
      "_________________________________________________________________\n"
     ]
    }
   ],
   "source": [
    "classifier.summary()"
   ]
  },
  {
   "cell_type": "code",
   "execution_count": 9,
   "metadata": {
    "id": "L0sf79GD5pIH"
   },
   "outputs": [],
   "source": [
    "classifier.compile(optimizer='adam', loss='sparse_categorical_crossentropy', metrics=['accuracy']) "
   ]
  },
  {
   "cell_type": "code",
   "execution_count": 10,
   "metadata": {
    "id": "l8JLV16x5pIM",
    "outputId": "69497dfa-dd17-4320-9c4d-b88e659ff75e",
    "scrolled": true
   },
   "outputs": [
    {
     "name": "stdout",
     "output_type": "stream",
     "text": [
      "WARNING:tensorflow:From C:\\Users\\Naveena\\AppData\\Local\\Temp\\ipykernel_25676\\4010284948.py:3: Model.fit_generator (from tensorflow.python.keras.engine.training) is deprecated and will be removed in a future version.\n",
      "Instructions for updating:\n",
      "Please use Model.fit, which supports generators.\n",
      "Epoch 1/20\n",
      "526/526 [==============================] - 8s 15ms/step - loss: 0.1828 - accuracy: 0.9326 - val_loss: 0.1117 - val_accuracy: 0.9706\n",
      "Epoch 2/20\n",
      "526/526 [==============================] - 7s 13ms/step - loss: 9.8349e-04 - accuracy: 1.0000 - val_loss: 0.0910 - val_accuracy: 0.9735\n",
      "Epoch 3/20\n",
      "526/526 [==============================] - 7s 13ms/step - loss: 1.4730e-04 - accuracy: 1.0000 - val_loss: 0.0893 - val_accuracy: 0.9735\n",
      "Epoch 4/20\n",
      "526/526 [==============================] - 7s 13ms/step - loss: 1.3341e-04 - accuracy: 1.0000 - val_loss: 0.0839 - val_accuracy: 0.9763\n",
      "Epoch 5/20\n",
      "526/526 [==============================] - 7s 13ms/step - loss: 7.0660e-05 - accuracy: 1.0000 - val_loss: 0.0918 - val_accuracy: 0.9744\n",
      "Epoch 6/20\n",
      "526/526 [==============================] - 7s 13ms/step - loss: 0.0905 - accuracy: 0.9783 - val_loss: 0.0700 - val_accuracy: 0.9640\n",
      "Epoch 7/20\n",
      "526/526 [==============================] - 7s 13ms/step - loss: 0.0136 - accuracy: 0.9970 - val_loss: 0.1649 - val_accuracy: 0.9242\n",
      "Epoch 8/20\n",
      "526/526 [==============================] - 7s 13ms/step - loss: 5.4471e-04 - accuracy: 1.0000 - val_loss: 0.0592 - val_accuracy: 0.9649\n",
      "Epoch 9/20\n",
      "526/526 [==============================] - 7s 13ms/step - loss: 6.5123e-05 - accuracy: 1.0000 - val_loss: 0.0463 - val_accuracy: 0.9744\n",
      "Epoch 10/20\n",
      "526/526 [==============================] - 7s 13ms/step - loss: 4.1281e-05 - accuracy: 1.0000 - val_loss: 0.0593 - val_accuracy: 0.9592\n",
      "Epoch 11/20\n",
      "526/526 [==============================] - 7s 13ms/step - loss: 2.1042e-05 - accuracy: 1.0000 - val_loss: 0.0594 - val_accuracy: 0.9649\n",
      "Epoch 12/20\n",
      "526/526 [==============================] - 7s 13ms/step - loss: 1.1924e-05 - accuracy: 1.0000 - val_loss: 0.0754 - val_accuracy: 0.9536\n",
      "Epoch 13/20\n",
      "526/526 [==============================] - 7s 13ms/step - loss: 1.3407e-05 - accuracy: 1.0000 - val_loss: 0.0523 - val_accuracy: 0.9801\n",
      "Epoch 14/20\n",
      "526/526 [==============================] - 7s 13ms/step - loss: 8.8857e-06 - accuracy: 1.0000 - val_loss: 0.0194 - val_accuracy: 0.9886\n",
      "Epoch 15/20\n",
      "526/526 [==============================] - 7s 12ms/step - loss: 8.1155e-06 - accuracy: 1.0000 - val_loss: 0.0363 - val_accuracy: 0.9848\n",
      "Epoch 16/20\n",
      "526/526 [==============================] - 7s 13ms/step - loss: 6.2558e-06 - accuracy: 1.0000 - val_loss: 0.0155 - val_accuracy: 0.9953\n",
      "Epoch 17/20\n",
      "526/526 [==============================] - 7s 13ms/step - loss: 3.3666e-06 - accuracy: 1.0000 - val_loss: 0.0455 - val_accuracy: 0.9829\n",
      "Epoch 18/20\n",
      "526/526 [==============================] - 7s 12ms/step - loss: 0.0927 - accuracy: 0.9791 - val_loss: 0.0985 - val_accuracy: 0.9602\n",
      "Epoch 19/20\n",
      "526/526 [==============================] - 7s 13ms/step - loss: 6.8149e-04 - accuracy: 1.0000 - val_loss: 0.1620 - val_accuracy: 0.9450\n",
      "Epoch 20/20\n",
      "526/526 [==============================] - 7s 12ms/step - loss: 6.3154e-05 - accuracy: 1.0000 - val_loss: 0.1843 - val_accuracy: 0.9374\n"
     ]
    },
    {
     "data": {
      "text/plain": [
       "<tensorflow.python.keras.callbacks.History at 0x25a7f256408>"
      ]
     },
     "execution_count": 10,
     "metadata": {},
     "output_type": "execute_result"
    }
   ],
   "source": [
    "classifier.fit_generator(\n",
    "        generator=x_train,steps_per_epoch = len(x_train),\n",
    "        epochs=20, validation_data=x_test,validation_steps = len(x_test))"
   ]
  },
  {
   "cell_type": "code",
   "execution_count": 16,
   "metadata": {
    "id": "qAJYdsrl5pIQ"
   },
   "outputs": [],
   "source": [
    "classifier.save('nutrition.h5')"
   ]
  },
  {
   "cell_type": "code",
   "execution_count": 17,
   "metadata": {
    "id": "3tJkyuyz5pIR"
   },
   "outputs": [],
   "source": [
    "from tensorflow.keras.models import load_model\n",
    "from keras.preprocessing import image\n",
    "model = load_model(\"nutrition.h5\")"
   ]
  },
  {
   "cell_type": "code",
   "execution_count": 18,
   "metadata": {
    "id": "lSQ6tnsR5pIc",
    "outputId": "0ffb0001-eb70-42f8-d2e9-93cfde566c05"
   },
   "outputs": [
    {
     "data": {
      "text/plain": [
       "array([1], dtype=int64)"
      ]
     },
     "execution_count": 18,
     "metadata": {},
     "output_type": "execute_result"
    }
   ],
   "source": [
    "img = image.load_img(r\"C:\\Users\\Naveena\\Desktop\\IBM\\datasets\\Nutrition Analysis Using Image Classification-20221008T183521Z-001\\Nutrition Analysis Using Image Classification\\Dataset\\TEST_SET\\BANANA\\12_100.jpg\",\n",
    "                     grayscale=False,target_size= (64,64))#loading of the image\n",
    "x = image.img_to_array(img)\n",
    "x = np.expand_dims(x,axis = 0)\n",
    "pred = model.predict_classes(x)\n",
    "pred"
   ]
  },
  {
   "cell_type": "code",
   "execution_count": 19,
   "metadata": {
    "id": "EazH0bQ05pIc",
    "outputId": "4ee9e9f9-f628-447c-80a9-9d4a86020316"
   },
   "outputs": [
    {
     "data": {
      "text/plain": [
       "'BANANA'"
      ]
     },
     "execution_count": 19,
     "metadata": {},
     "output_type": "execute_result"
    }
   ],
   "source": [
    "index=['APPLES', 'BANANA', 'ORANGE','PINEAPPLE','WATERMELON']\n",
    "result=str(index[pred[0]])\n",
    "result"
   ]
  },
  {
   "cell_type": "code",
   "execution_count": 20,
   "metadata": {
    "id": "ImD8ff9z5pIe"
   },
   "outputs": [
    {
     "name": "stdout",
     "output_type": "stream",
     "text": [
      "BANANA - Calories: 112, Fat: 0 grams, Protein: 1 gram and Fiber: 3 grams\n"
     ]
    }
   ],
   "source": [
    "if(result=='BANANA'):\n",
    "    print('BANANA - Calories: 112, Fat: 0 grams, Protein: 1 gram and Fiber: 3 grams')\n",
    "elif(result=='APPLE'):\n",
    "    print('APPLE - Calories: 104, Vitamin C: 10% of the Daily Value, Carbs: 28 grams and Fiber: 5 grams')\n",
    "elif(result=='PINEAPPLE'):\n",
    "    print('PINEAPPLE - Calories: 83, Fat: 1.7 grams, Protein: 1 gram and Fiber: 2.3 grams')\n",
    "elif(result=='ORANGE'):\n",
    "    print('ORANGE - Calories: 66, Protein: 1.3 grams, Carbs: 14.8 grams and Carbs: 14.8 grams')\n",
    "elif(result=='Watermelon'):\n",
    "    print('WATERMELON - Calories: 46, Protein: 0.9 grams, Fat: 0.2 grams and Fiber: 0.6 grams')\n"
   ]
  },
  {
   "cell_type": "code",
   "execution_count": null,
   "metadata": {},
   "outputs": [],
   "source": []
  }
 ],
 "metadata": {
  "colab": {
   "provenance": []
  },
  "kernelspec": {
   "display_name": "new",
   "language": "python",
   "name": "new"
  },
  "language_info": {
   "codemirror_mode": {
    "name": "ipython",
    "version": 3
   },
   "file_extension": ".py",
   "mimetype": "text/x-python",
   "name": "python",
   "nbconvert_exporter": "python",
   "pygments_lexer": "ipython3",
   "version": "3.7.13"
  }
 },
 "nbformat": 4,
 "nbformat_minor": 1
}

{
 "cells": [
  {
   "cell_type": "code",
   "execution_count": 1,
   "id": "f1bc4936",
   "metadata": {},
   "outputs": [
    {
     "name": "stdout",
     "output_type": "stream",
     "text": [
      "Requirement already satisfied: watson-machine-learning-client in d:\\anaconda\\newfolder\\envs\\new\\lib\\site-packages (1.0.391)\n",
      "Requirement already satisfied: requests in d:\\anaconda\\newfolder\\envs\\new\\lib\\site-packages (from watson-machine-learning-client) (2.28.1)\n",
      "Requirement already satisfied: urllib3 in d:\\anaconda\\newfolder\\envs\\new\\lib\\site-packages (from watson-machine-learning-client) (1.26.11)\n",
      "Requirement already satisfied: pandas in d:\\anaconda\\newfolder\\envs\\new\\lib\\site-packages (from watson-machine-learning-client) (1.3.5)\n",
      "Requirement already satisfied: tqdm in d:\\anaconda\\newfolder\\envs\\new\\lib\\site-packages (from watson-machine-learning-client) (4.64.1)\n",
      "Requirement already satisfied: tabulate in d:\\anaconda\\newfolder\\envs\\new\\lib\\site-packages (from watson-machine-learning-client) (0.9.0)\n",
      "Requirement already satisfied: boto3 in d:\\anaconda\\newfolder\\envs\\new\\lib\\site-packages (from watson-machine-learning-client) (1.26.10)\n",
      "Requirement already satisfied: certifi in d:\\anaconda\\newfolder\\envs\\new\\lib\\site-packages (from watson-machine-learning-client) (2022.9.24)\n",
      "Requirement already satisfied: ibm-cos-sdk in d:\\anaconda\\newfolder\\envs\\new\\lib\\site-packages (from watson-machine-learning-client) (2.12.0)\n",
      "Requirement already satisfied: lomond in d:\\anaconda\\newfolder\\envs\\new\\lib\\site-packages (from watson-machine-learning-client) (0.3.3)\n",
      "Requirement already satisfied: jmespath<2.0.0,>=0.7.1 in d:\\anaconda\\newfolder\\envs\\new\\lib\\site-packages (from boto3->watson-machine-learning-client) (0.10.0)\n",
      "Requirement already satisfied: botocore<1.30.0,>=1.29.10 in d:\\anaconda\\newfolder\\envs\\new\\lib\\site-packages (from boto3->watson-machine-learning-client) (1.29.10)\n",
      "Requirement already satisfied: s3transfer<0.7.0,>=0.6.0 in d:\\anaconda\\newfolder\\envs\\new\\lib\\site-packages (from boto3->watson-machine-learning-client) (0.6.0)\n",
      "Requirement already satisfied: ibm-cos-sdk-s3transfer==2.12.0 in d:\\anaconda\\newfolder\\envs\\new\\lib\\site-packages (from ibm-cos-sdk->watson-machine-learning-client) (2.12.0)\n",
      "Requirement already satisfied: ibm-cos-sdk-core==2.12.0 in d:\\anaconda\\newfolder\\envs\\new\\lib\\site-packages (from ibm-cos-sdk->watson-machine-learning-client) (2.12.0)\n",
      "Requirement already satisfied: python-dateutil<3.0.0,>=2.8.2 in d:\\anaconda\\newfolder\\envs\\new\\lib\\site-packages (from ibm-cos-sdk-core==2.12.0->ibm-cos-sdk->watson-machine-learning-client) (2.8.2)\n",
      "Requirement already satisfied: charset-normalizer<3,>=2 in d:\\anaconda\\newfolder\\envs\\new\\lib\\site-packages (from requests->watson-machine-learning-client) (2.0.4)\n",
      "Requirement already satisfied: idna<4,>=2.5 in d:\\anaconda\\newfolder\\envs\\new\\lib\\site-packages (from requests->watson-machine-learning-client) (3.3)\n",
      "Requirement already satisfied: six>=1.10.0 in d:\\anaconda\\newfolder\\envs\\new\\lib\\site-packages (from lomond->watson-machine-learning-client) (1.16.0)\n",
      "Requirement already satisfied: numpy>=1.17.3 in d:\\anaconda\\newfolder\\envs\\new\\lib\\site-packages (from pandas->watson-machine-learning-client) (1.21.5)\n",
      "Requirement already satisfied: pytz>=2017.3 in d:\\anaconda\\newfolder\\envs\\new\\lib\\site-packages (from pandas->watson-machine-learning-client) (2022.1)\n",
      "Requirement already satisfied: colorama in d:\\anaconda\\newfolder\\envs\\new\\lib\\site-packages (from tqdm->watson-machine-learning-client) (0.4.5)\n"
     ]
    }
   ],
   "source": [
    "!pip install watson-machine-learning-client"
   ]
  },
  {
   "cell_type": "code",
   "execution_count": 3,
   "id": "d8684028",
   "metadata": {},
   "outputs": [
    {
     "name": "stdout",
     "output_type": "stream",
     "text": [
      "Collecting ibm_watson_machine_learning\n",
      "  Using cached ibm_watson_machine_learning-1.0.257-py3-none-any.whl (1.8 MB)\n",
      "Requirement already satisfied: requests in d:\\anaconda\\newfolder\\envs\\new\\lib\\site-packages (from ibm_watson_machine_learning) (2.28.1)\n",
      "Requirement already satisfied: lomond in d:\\anaconda\\newfolder\\envs\\new\\lib\\site-packages (from ibm_watson_machine_learning) (0.3.3)\n",
      "Requirement already satisfied: urllib3 in d:\\anaconda\\newfolder\\envs\\new\\lib\\site-packages (from ibm_watson_machine_learning) (1.26.11)\n",
      "Requirement already satisfied: importlib-metadata in d:\\anaconda\\newfolder\\envs\\new\\lib\\site-packages (from ibm_watson_machine_learning) (4.11.3)\n",
      "Requirement already satisfied: tabulate in d:\\anaconda\\newfolder\\envs\\new\\lib\\site-packages (from ibm_watson_machine_learning) (0.9.0)\n",
      "Collecting ibm-cos-sdk==2.7.*\n",
      "  Downloading ibm-cos-sdk-2.7.0.tar.gz (51 kB)\n",
      "     -------------------------------------- 52.0/52.0 kB 662.4 kB/s eta 0:00:00\n",
      "  Preparing metadata (setup.py): started\n",
      "  Preparing metadata (setup.py): finished with status 'done'\n",
      "Requirement already satisfied: packaging in d:\\anaconda\\newfolder\\envs\\new\\lib\\site-packages (from ibm_watson_machine_learning) (21.3)\n",
      "Requirement already satisfied: certifi in d:\\anaconda\\newfolder\\envs\\new\\lib\\site-packages (from ibm_watson_machine_learning) (2022.9.24)\n",
      "Requirement already satisfied: pandas<1.5.0,>=0.24.2 in d:\\anaconda\\newfolder\\envs\\new\\lib\\site-packages (from ibm_watson_machine_learning) (1.3.5)\n",
      "Collecting ibm-cos-sdk-core==2.7.0\n",
      "  Downloading ibm-cos-sdk-core-2.7.0.tar.gz (824 kB)\n",
      "     -------------------------------------- 824.6/824.6 kB 1.2 MB/s eta 0:00:00\n",
      "  Preparing metadata (setup.py): started\n",
      "  Preparing metadata (setup.py): finished with status 'done'\n",
      "Collecting ibm-cos-sdk-s3transfer==2.7.0\n",
      "  Downloading ibm-cos-sdk-s3transfer-2.7.0.tar.gz (133 kB)\n",
      "     ------------------------------------ 133.2/133.2 kB 462.3 kB/s eta 0:00:00\n",
      "  Preparing metadata (setup.py): started\n",
      "  Preparing metadata (setup.py): finished with status 'done'\n",
      "Requirement already satisfied: jmespath<1.0.0,>=0.7.1 in d:\\anaconda\\newfolder\\envs\\new\\lib\\site-packages (from ibm-cos-sdk==2.7.*->ibm_watson_machine_learning) (0.10.0)\n",
      "Collecting docutils<0.16,>=0.10\n",
      "  Downloading docutils-0.15.2-py3-none-any.whl (547 kB)\n",
      "     -------------------------------------- 547.6/547.6 kB 1.5 MB/s eta 0:00:00\n",
      "Requirement already satisfied: python-dateutil<3.0.0,>=2.1 in d:\\anaconda\\newfolder\\envs\\new\\lib\\site-packages (from ibm-cos-sdk-core==2.7.0->ibm-cos-sdk==2.7.*->ibm_watson_machine_learning) (2.8.2)\n",
      "Requirement already satisfied: numpy>=1.17.3 in d:\\anaconda\\newfolder\\envs\\new\\lib\\site-packages (from pandas<1.5.0,>=0.24.2->ibm_watson_machine_learning) (1.21.5)\n",
      "Requirement already satisfied: pytz>=2017.3 in d:\\anaconda\\newfolder\\envs\\new\\lib\\site-packages (from pandas<1.5.0,>=0.24.2->ibm_watson_machine_learning) (2022.1)\n",
      "Requirement already satisfied: idna<4,>=2.5 in d:\\anaconda\\newfolder\\envs\\new\\lib\\site-packages (from requests->ibm_watson_machine_learning) (3.3)\n",
      "Requirement already satisfied: charset-normalizer<3,>=2 in d:\\anaconda\\newfolder\\envs\\new\\lib\\site-packages (from requests->ibm_watson_machine_learning) (2.0.4)\n",
      "Requirement already satisfied: zipp>=0.5 in d:\\anaconda\\newfolder\\envs\\new\\lib\\site-packages (from importlib-metadata->ibm_watson_machine_learning) (3.8.0)\n",
      "Requirement already satisfied: typing-extensions>=3.6.4 in d:\\anaconda\\newfolder\\envs\\new\\lib\\site-packages (from importlib-metadata->ibm_watson_machine_learning) (4.3.0)\n",
      "Requirement already satisfied: six>=1.10.0 in d:\\anaconda\\newfolder\\envs\\new\\lib\\site-packages (from lomond->ibm_watson_machine_learning) (1.16.0)\n",
      "Requirement already satisfied: pyparsing!=3.0.5,>=2.0.2 in d:\\anaconda\\newfolder\\envs\\new\\lib\\site-packages (from packaging->ibm_watson_machine_learning) (3.0.9)\n",
      "Building wheels for collected packages: ibm-cos-sdk, ibm-cos-sdk-core, ibm-cos-sdk-s3transfer\n",
      "  Building wheel for ibm-cos-sdk (setup.py): started\n",
      "  Building wheel for ibm-cos-sdk (setup.py): finished with status 'done'\n",
      "  Created wheel for ibm-cos-sdk: filename=ibm_cos_sdk-2.7.0-py2.py3-none-any.whl size=72549 sha256=769a07aacc5f340657eb73643dde023be4fe73d9a9e30f9d9badf9b6d887f0e5\n",
      "  Stored in directory: c:\\users\\naveena\\appdata\\local\\pip\\cache\\wheels\\47\\22\\bf\\e1154ff0f5de93cc477acd0ca69abfbb8b799c5b28a66b44c2\n",
      "  Building wheel for ibm-cos-sdk-core (setup.py): started\n",
      "  Building wheel for ibm-cos-sdk-core (setup.py): finished with status 'done'\n",
      "  Created wheel for ibm-cos-sdk-core: filename=ibm_cos_sdk_core-2.7.0-py2.py3-none-any.whl size=500998 sha256=fb12fd22a749367af8f2cf01a0b5ee60b33d3a480dd1e11b8e622446f5a4aef2\n",
      "  Stored in directory: c:\\users\\naveena\\appdata\\local\\pip\\cache\\wheels\\6c\\a2\\e4\\c16d02f809a3ea998e17cfd02c13369281f3d232aaf5902c19\n",
      "  Building wheel for ibm-cos-sdk-s3transfer (setup.py): started\n",
      "  Building wheel for ibm-cos-sdk-s3transfer (setup.py): finished with status 'done'\n",
      "  Created wheel for ibm-cos-sdk-s3transfer: filename=ibm_cos_sdk_s3transfer-2.7.0-py2.py3-none-any.whl size=88609 sha256=32b97a9ce3a476df7e84cb24acc1acf9ab918d05df0160d61f208c3e1dc21479\n",
      "  Stored in directory: c:\\users\\naveena\\appdata\\local\\pip\\cache\\wheels\\5f\\b7\\14\\fbe02bc1ef1af890650c7e51743d1c83890852e598d164b9da\n",
      "Successfully built ibm-cos-sdk ibm-cos-sdk-core ibm-cos-sdk-s3transfer\n",
      "Installing collected packages: docutils, ibm-cos-sdk-core, ibm-cos-sdk-s3transfer, ibm-cos-sdk, ibm_watson_machine_learning\n",
      "  Attempting uninstall: docutils\n",
      "    Found existing installation: docutils 0.18.1\n",
      "    Uninstalling docutils-0.18.1:\n",
      "      Successfully uninstalled docutils-0.18.1\n",
      "  Attempting uninstall: ibm-cos-sdk-core\n",
      "    Found existing installation: ibm-cos-sdk-core 2.12.0\n",
      "    Uninstalling ibm-cos-sdk-core-2.12.0:\n",
      "      Successfully uninstalled ibm-cos-sdk-core-2.12.0\n",
      "  Attempting uninstall: ibm-cos-sdk-s3transfer\n",
      "    Found existing installation: ibm-cos-sdk-s3transfer 2.12.0\n",
      "    Uninstalling ibm-cos-sdk-s3transfer-2.12.0:\n",
      "      Successfully uninstalled ibm-cos-sdk-s3transfer-2.12.0\n",
      "  Attempting uninstall: ibm-cos-sdk\n",
      "    Found existing installation: ibm-cos-sdk 2.12.0\n",
      "    Uninstalling ibm-cos-sdk-2.12.0:\n",
      "      Successfully uninstalled ibm-cos-sdk-2.12.0\n",
      "Successfully installed docutils-0.15.2 ibm-cos-sdk-2.7.0 ibm-cos-sdk-core-2.7.0 ibm-cos-sdk-s3transfer-2.7.0 ibm_watson_machine_learning-1.0.257\n"
     ]
    }
   ],
   "source": [
    "!pip install ibm_watson_machine_learning"
   ]
  },
  {
   "cell_type": "code",
   "execution_count": 4,
   "id": "35dd2cc7",
   "metadata": {},
   "outputs": [
    {
     "name": "stdout",
     "output_type": "stream",
     "text": [
      "Python 3.7 and 3.8 frameworks are deprecated and will be removed in a future release. Use Python 3.9 framework instead.\n"
     ]
    }
   ],
   "source": [
    "from ibm_watson_machine_learning import APIClient\n",
    "wml_credentials = {\n",
    "    \"url\": \"https://us-south.ml.cloud.ibm.com\",\n",
    "    \"apikey\":\"SeexqLh7tYnpqmWvUgLHL43ZR8TCqOwYE8Nwl13gNIv3\"\n",
    "}\n",
    "client = APIClient(wml_credentials)\n"
   ]
  },
  {
   "cell_type": "code",
   "execution_count": 5,
   "id": "dbb39c8d",
   "metadata": {},
   "outputs": [
    {
     "name": "stdout",
     "output_type": "stream",
     "text": [
      "Python 3.7 and 3.8 frameworks are deprecated and will be removed in a future release. Use Python 3.9 framework instead.\n"
     ]
    }
   ],
   "source": [
    "client = APIClient(wml_credentials)"
   ]
  },
  {
   "cell_type": "code",
   "execution_count": 6,
   "id": "2bf417bc",
   "metadata": {},
   "outputs": [],
   "source": [
    "def guid_from_space_name(client,space_name):\n",
    "    space = client.spaces.get_details()\n",
    "    return(next(item for item in space['resources'] if item['entity'][\"name\"]==space_name)['metadata']['id'])"
   ]
  },
  {
   "cell_type": "code",
   "execution_count": 7,
   "id": "eb56b8af",
   "metadata": {},
   "outputs": [
    {
     "name": "stdout",
     "output_type": "stream",
     "text": [
      "Space UID= 03054542-83e6-400d-abff-089cdf60ee8d\n"
     ]
    }
   ],
   "source": [
    "space_uid = guid_from_space_name(client, 'Nutrition_analyser')\n",
    "print(\"Space UID= \" + space_uid)"
   ]
  },
  {
   "cell_type": "code",
   "execution_count": 8,
   "id": "6649a33a",
   "metadata": {},
   "outputs": [
    {
     "data": {
      "text/plain": [
       "'SUCCESS'"
      ]
     },
     "execution_count": 8,
     "metadata": {},
     "output_type": "execute_result"
    }
   ],
   "source": [
    "client.set.default_space(space_uid)"
   ]
  },
  {
   "cell_type": "code",
   "execution_count": 9,
   "id": "ccf472d3",
   "metadata": {},
   "outputs": [
    {
     "name": "stdout",
     "output_type": "stream",
     "text": [
      "-----------------------------  ------------------------------------  ----\n",
      "NAME                           ASSET_ID                              TYPE\n",
      "default_py3.6                  0062b8c9-8b7d-44a0-a9b9-46c416adcbd9  base\n",
      "kernel-spark3.2-scala2.12      020d69ce-7ac1-5e68-ac1a-31189867356a  base\n",
      "pytorch-onnx_1.3-py3.7-edt     069ea134-3346-5748-b513-49120e15d288  base\n",
      "scikit-learn_0.20-py3.6        09c5a1d0-9c1e-4473-a344-eb7b665ff687  base\n",
      "spark-mllib_3.0-scala_2.12     09f4cff0-90a7-5899-b9ed-1ef348aebdee  base\n",
      "pytorch-onnx_rt22.1-py3.9      0b848dd4-e681-5599-be41-b5f6fccc6471  base\n",
      "ai-function_0.1-py3.6          0cdb0f1e-5376-4f4d-92dd-da3b69aa9bda  base\n",
      "shiny-r3.6                     0e6e79df-875e-4f24-8ae9-62dcc2148306  base\n",
      "tensorflow_2.4-py3.7-horovod   1092590a-307d-563d-9b62-4eb7d64b3f22  base\n",
      "pytorch_1.1-py3.6              10ac12d6-6b30-4ccd-8392-3e922c096a92  base\n",
      "tensorflow_1.15-py3.6-ddl      111e41b3-de2d-5422-a4d6-bf776828c4b7  base\n",
      "autoai-kb_rt22.2-py3.10        125b6d9a-5b1f-5e8d-972a-b251688ccf40  base\n",
      "runtime-22.1-py3.9             12b83a17-24d8-5082-900f-0ab31fbfd3cb  base\n",
      "scikit-learn_0.22-py3.6        154010fa-5b3b-4ac1-82af-4d5ee5abbc85  base\n",
      "default_r3.6                   1b70aec3-ab34-4b87-8aa0-a4a3c8296a36  base\n",
      "pytorch-onnx_1.3-py3.6         1bc6029a-cc97-56da-b8e0-39c3880dbbe7  base\n",
      "kernel-spark3.3-r3.6           1c9e5454-f216-59dd-a20e-474a5cdf5988  base\n",
      "pytorch-onnx_rt22.1-py3.9-edt  1d362186-7ad5-5b59-8b6c-9d0880bde37f  base\n",
      "tensorflow_2.1-py3.6           1eb25b84-d6ed-5dde-b6a5-3fbdf1665666  base\n",
      "spark-mllib_3.2                20047f72-0a98-58c7-9ff5-a77b012eb8f5  base\n",
      "tensorflow_2.4-py3.8-horovod   217c16f6-178f-56bf-824a-b19f20564c49  base\n",
      "runtime-22.1-py3.9-cuda        26215f05-08c3-5a41-a1b0-da66306ce658  base\n",
      "do_py3.8                       295addb5-9ef9-547e-9bf4-92ae3563e720  base\n",
      "autoai-ts_3.8-py3.8            2aa0c932-798f-5ae9-abd6-15e0c2402fb5  base\n",
      "tensorflow_1.15-py3.6          2b73a275-7cbf-420b-a912-eae7f436e0bc  base\n",
      "kernel-spark3.3-py3.9          2b7961e2-e3b1-5a8c-a491-482c8368839a  base\n",
      "pytorch_1.2-py3.6              2c8ef57d-2687-4b7d-acce-01f94976dac1  base\n",
      "spark-mllib_2.3                2e51f700-bca0-4b0d-88dc-5c6791338875  base\n",
      "pytorch-onnx_1.1-py3.6-edt     32983cea-3f32-4400-8965-dde874a8d67e  base\n",
      "spark-mllib_3.0-py37           36507ebe-8770-55ba-ab2a-eafe787600e9  base\n",
      "spark-mllib_2.4                390d21f8-e58b-4fac-9c55-d7ceda621326  base\n",
      "autoai-ts_rt22.2-py3.10        396b2e83-0953-5b86-9a55-7ce1628a406f  base\n",
      "xgboost_0.82-py3.6             39e31acd-5f30-41dc-ae44-60233c80306e  base\n",
      "pytorch-onnx_1.2-py3.6-edt     40589d0e-7019-4e28-8daa-fb03b6f4fe12  base\n",
      "pytorch-onnx_rt22.2-py3.10     40e73f55-783a-5535-b3fa-0c8b94291431  base\n",
      "default_r36py38                41c247d3-45f8-5a71-b065-8580229facf0  base\n",
      "autoai-ts_rt22.1-py3.9         4269d26e-07ba-5d40-8f66-2d495b0c71f7  base\n",
      "autoai-obm_3.0                 42b92e18-d9ab-567f-988a-4240ba1ed5f7  base\n",
      "pmml-3.0_4.3                   493bcb95-16f1-5bc5-bee8-81b8af80e9c7  base\n",
      "spark-mllib_2.4-r_3.6          49403dff-92e9-4c87-a3d7-a42d0021c095  base\n",
      "xgboost_0.90-py3.6             4ff8d6c2-1343-4c18-85e1-689c965304d3  base\n",
      "pytorch-onnx_1.1-py3.6         50f95b2a-bc16-43bb-bc94-b0bed208c60b  base\n",
      "autoai-ts_3.9-py3.8            52c57136-80fa-572e-8728-a5e7cbb42cde  base\n",
      "spark-mllib_2.4-scala_2.11     55a70f99-7320-4be5-9fb9-9edb5a443af5  base\n",
      "spark-mllib_3.0                5c1b0ca2-4977-5c2e-9439-ffd44ea8ffe9  base\n",
      "autoai-obm_2.0                 5c2e37fa-80b8-5e77-840f-d912469614ee  base\n",
      "spss-modeler_18.1              5c3cad7e-507f-4b2a-a9a3-ab53a21dee8b  base\n",
      "cuda-py3.8                     5d3232bf-c86b-5df4-a2cd-7bb870a1cd4e  base\n",
      "autoai-kb_3.1-py3.7            632d4b22-10aa-5180-88f0-f52dfb6444d7  base\n",
      "pytorch-onnx_1.7-py3.8         634d3cdc-b562-5bf9-a2d4-ea90a478456b  base\n",
      "-----------------------------  ------------------------------------  ----\n",
      "Note: Only first 50 records were displayed. To display more use 'limit' parameter.\n"
     ]
    }
   ],
   "source": [
    "client.software_specifications.list()"
   ]
  },
  {
   "cell_type": "code",
   "execution_count": 11,
   "id": "c103bfab",
   "metadata": {},
   "outputs": [
    {
     "name": "stdout",
     "output_type": "stream",
     "text": [
      "Successfully saved model content to file: 'nutrition_analyser.tar.gz'\n"
     ]
    },
    {
     "data": {
      "text/plain": [
       "'d:\\\\Navi\\\\IBM/nutrition_analyser.tar.gz'"
      ]
     },
     "execution_count": 11,
     "metadata": {},
     "output_type": "execute_result"
    }
   ],
   "source": [
    "client.repository.download(\"1a7f5482-97df-4c6b-9c19-01cb513a38c8\",'nutrition_analyser.tar.gz')"
   ]
  },
  {
   "cell_type": "code",
   "execution_count": 12,
   "id": "c0113dd8",
   "metadata": {},
   "outputs": [],
   "source": [
    "from keras.models import load_model\n",
    "from keras.preprocessing import image"
   ]
  },
  {
   "cell_type": "code",
   "execution_count": 15,
   "id": "84edf14c",
   "metadata": {},
   "outputs": [],
   "source": [
    "model = load_model(\"nutrition.h5\")"
   ]
  },
  {
   "cell_type": "code",
   "execution_count": 24,
   "id": "867278a6",
   "metadata": {},
   "outputs": [],
   "source": [
    "img = image.load_img(r\"C:\\Users\\Naveena\\Desktop\\IBM\\datasets\\Dataset\\Nutrition Analysis\\Dataset\\TEST_SET\\PINEAPPLE\\1_100.jpg\",target_size=(64,64))"
   ]
  },
  {
   "cell_type": "code",
   "execution_count": 25,
   "id": "a4ea7328",
   "metadata": {},
   "outputs": [],
   "source": [
    "import numpy as np\n",
    "x = image.img_to_array(img)\n",
    "x = np.expand_dims(x,axis = 0)\n"
   ]
  },
  {
   "cell_type": "code",
   "execution_count": 26,
   "id": "c2f6b471",
   "metadata": {},
   "outputs": [
    {
     "data": {
      "text/plain": [
       "(1, 64, 64, 3)"
      ]
     },
     "execution_count": 26,
     "metadata": {},
     "output_type": "execute_result"
    }
   ],
   "source": [
    "x.shape"
   ]
  },
  {
   "cell_type": "code",
   "execution_count": 27,
   "id": "9aa4750f",
   "metadata": {},
   "outputs": [],
   "source": [
    "pred = model.predict_classes(x)"
   ]
  },
  {
   "cell_type": "code",
   "execution_count": 28,
   "id": "320bfb61",
   "metadata": {},
   "outputs": [
    {
     "data": {
      "text/plain": [
       "3"
      ]
     },
     "execution_count": 28,
     "metadata": {},
     "output_type": "execute_result"
    }
   ],
   "source": [
    "pred[0]"
   ]
  },
  {
   "cell_type": "code",
   "execution_count": 32,
   "id": "ba2ca32f",
   "metadata": {},
   "outputs": [
    {
     "data": {
      "text/plain": [
       "'PINEAPPLE'"
      ]
     },
     "execution_count": 32,
     "metadata": {},
     "output_type": "execute_result"
    }
   ],
   "source": [
    "index=['APPLES', 'BANANA', 'ORANGE','PINEAPPLE','WATERMELON']\n",
    "result = index[pred[0]]\n",
    "result"
   ]
  }
 ],
 "metadata": {
  "kernelspec": {
   "display_name": "Python 3",
   "language": "python",
   "name": "python3"
  },
  "language_info": {
   "codemirror_mode": {
    "name": "ipython",
    "version": 3
   },
   "file_extension": ".py",
   "mimetype": "text/x-python",
   "name": "python",
   "nbconvert_exporter": "python",
   "pygments_lexer": "ipython3",
   "version": "3.7.13"
  }
 },
 "nbformat": 4,
 "nbformat_minor": 5
}

{
 "cells": [
  {
   "cell_type": "markdown",
   "id": "620bb667",
   "metadata": {},
   "source": [
    "**PNT2022TMID43392 IMAGE_PREPROCESSING  --> UNDER SPRINT1**"
   ]
  },
  {
   "cell_type": "markdown",
   "id": "4aa76ecc",
   "metadata": {},
   "source": [
    "**Import The ImageDataGenerator Library**"
   ]
  },
  {
   "cell_type": "code",
   "execution_count": 4,
   "id": "c8fec67a",
   "metadata": {},
   "outputs": [],
   "source": [
    "from keras.preprocessing.image import ImageDataGenerator"
   ]
  },
  {
   "cell_type": "markdown",
   "id": "349f26e3",
   "metadata": {},
   "source": [
    "**Configure ImageDataGenerator Class**"
   ]
  },
  {
   "cell_type": "code",
   "execution_count": 5,
   "id": "3aa35b38",
   "metadata": {},
   "outputs": [],
   "source": [
    "train = ImageDataGenerator(rescale=1./255,shear_range=0.2,zoom_range=0.2,horizontal_flip=True)\n",
    "test=ImageDataGenerator(rescale=1./255)"
   ]
  },
  {
   "cell_type": "markdown",
   "id": "2887e1bc",
   "metadata": {},
   "source": [
    "**Apply Image DataGenerator Functionality To Trainset And Testset**"
   ]
  },
  {
   "cell_type": "code",
   "execution_count": 6,
   "id": "0594e0b2",
   "metadata": {},
   "outputs": [
    {
     "name": "stdout",
     "output_type": "stream",
     "text": [
      "Found 2626 images belonging to 5 classes.\n",
      "Found 1055 images belonging to 5 classes.\n"
     ]
    }
   ],
   "source": [
    "x_train = train.flow_from_directory(\n",
    "    r'C:\\Users\\Naveena\\Desktop\\IBM\\datasets\\Dataset\\Nutrition Analysis\\Dataset\\TRAIN_SET',\n",
    "    target_size=(64, 64),batch_size=5,color_mode='rgb',class_mode='sparse')\n",
    "x_test = test.flow_from_directory(\n",
    "    r'C:\\Users\\Naveena\\Desktop\\IBM\\datasets\\Dataset\\Nutrition Analysis\\Dataset\\TEST_SET',\n",
    "    target_size=(64, 64),batch_size=5,color_mode='rgb',class_mode='sparse') "
   ]
  }
 ],
 "metadata": {
  "kernelspec": {
   "display_name": "new",
   "language": "python",
   "name": "new"
  },
  "language_info": {
   "codemirror_mode": {
    "name": "ipython",
    "version": 3
   },
   "file_extension": ".py",
   "mimetype": "text/x-python",
   "name": "python",
   "nbconvert_exporter": "python",
   "pygments_lexer": "ipython3",
   "version": "3.7.13"
  }
 },
 "nbformat": 4,
 "nbformat_minor": 5
}

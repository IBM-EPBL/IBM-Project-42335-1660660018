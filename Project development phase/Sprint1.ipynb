{
 "cells": [
  {
   "cell_type": "markdown",
   "metadata": {
    "id": "7com28W55pHk"
   },
   "source": [
    "*AI-Powered Nutrition Analyzer For Fitness Enthusiasts*\n",
    "**Team ID PNT2022TMID43392** **--SPRINT1--**"
   ]
  },
  {
   "cell_type": "markdown",
   "metadata": {
    "id": "whbZ5Uw35pHw"
   },
   "source": [
    "**Importing the libraries**"
   ]
  },
  {
   "cell_type": "code",
   "execution_count": 2,
   "metadata": {
    "id": "60eg6zmo5pHx"
   },
   "outputs": [],
   "source": [
    "import numpy as np\n",
    "import tensorflow \n",
    "from keras.preprocessing.image import ImageDataGenerator\n",
    "from tensorflow.keras.layers import Conv2D,MaxPooling2D,Dropout \n",
    "from tensorflow.keras import layers \n",
    "from tensorflow.keras.layers import Dense,Flatten\n",
    "from tensorflow.keras.models import Sequential "
   ]
  },
  {
   "cell_type": "markdown",
   "metadata": {
    "id": "vnVt93M05pH0"
   },
   "source": [
    "**Configure ImageDataGenerator class- Image Data Augmentation**"
   ]
  },
  {
   "cell_type": "code",
   "execution_count": 3,
   "metadata": {
    "id": "-VLZKCTd5pH1"
   },
   "outputs": [],
   "source": [
    "train = ImageDataGenerator(rescale=1./255,shear_range=0.2,zoom_range=0.2,horizontal_flip=True)\n",
    "test=ImageDataGenerator(rescale=1./255)"
   ]
  },
  {
   "cell_type": "markdown",
   "metadata": {},
   "source": [
    "**Apply Image DataGenerator Functionality To Trainset And Testset**\n",
    "**Loading the data and performing data augmentation**\n"
   ]
  },
  {
   "cell_type": "code",
   "execution_count": 4,
   "metadata": {
    "id": "8Hkc9ffd5pH5",
    "outputId": "f2f3a171-41c1-4f1c-e125-781a47760b45"
   },
   "outputs": [
    {
     "name": "stdout",
     "output_type": "stream",
     "text": [
      "Found 2626 images belonging to 5 classes.\n",
      "Found 1055 images belonging to 5 classes.\n"
     ]
    }
   ],
   "source": [
    "x_train = train.flow_from_directory(\n",
    "    r'C:\\Users\\Naveena\\Desktop\\IBM\\datasets\\Nutrition Analysis Using Image Classification-20221008T183521Z-001\\Nutrition Analysis Using Image Classification\\Dataset\\TRAIN_SET',\n",
    "    target_size=(64, 64),batch_size=5,color_mode='rgb',class_mode='sparse')\n",
    "x_test = test.flow_from_directory(\n",
    "    r'C:\\Users\\Naveena\\Desktop\\IBM\\datasets\\Nutrition Analysis Using Image Classification-20221008T183521Z-001\\Nutrition Analysis Using Image Classification\\Dataset\\TEST_SET',\n",
    "    target_size=(64, 64),batch_size=5,color_mode='rgb',class_mode='sparse') "
   ]
  },
  {
   "cell_type": "code",
   "execution_count": 5,
   "metadata": {
    "id": "szwYFmls5pH8",
    "outputId": "be341c75-9d14-446a-c340-8158106647ac"
   },
   "outputs": [
    {
     "name": "stdout",
     "output_type": "stream",
     "text": [
      "{'APPLES': 0, 'BANANA': 1, 'ORANGE': 2, 'PINEAPPLE': 3, 'WATERMELON': 4}\n"
     ]
    }
   ],
   "source": [
    "print(x_train.class_indices)"
   ]
  },
  {
   "cell_type": "code",
   "execution_count": 6,
   "metadata": {
    "id": "8SliKn605pH-",
    "outputId": "56cad51d-fcd8-4aca-d0b0-ed3b3c492b7e"
   },
   "outputs": [
    {
     "name": "stdout",
     "output_type": "stream",
     "text": [
      "{'APPLES': 0, 'BANANA': 1, 'ORANGE': 2, 'PINEAPPLE': 3, 'WATERMELON': 4}\n"
     ]
    }
   ],
   "source": [
    "print(x_test.class_indices)"
   ]
  },
  {
   "cell_type": "code",
   "execution_count": 7,
   "metadata": {
    "id": "yWWDoRDw5pIA",
    "outputId": "5e13f553-81ed-410f-b80d-35a378902983"
   },
   "outputs": [
    {
     "data": {
      "text/plain": [
       "Counter({0: 606, 1: 445, 2: 479, 3: 621, 4: 475})"
      ]
     },
     "execution_count": 7,
     "metadata": {},
     "output_type": "execute_result"
    }
   ],
   "source": [
    "from collections import Counter as c\n",
    "c(x_train .labels)"
   ]
  },
  {
   "cell_type": "markdown",
   "metadata": {
    "id": "l3R_JW4b5pIC"
   },
   "source": [
    "**CREATING THE MODEL-->**\n",
    "**Adding CNN layers**"
   ]
  },
  {
   "cell_type": "code",
   "execution_count": 8,
   "metadata": {
    "id": "eejmbWX75pID"
   },
   "outputs": [],
   "source": [
    "# Initializing the CNN\n",
    "classifier = Sequential()\n",
    "\n",
    "# First convolution layer and pooling\n",
    "classifier.add(Conv2D(32, (3, 3), input_shape=(64, 64, 3), activation='relu'))\n",
    "classifier.add(MaxPooling2D(pool_size=(2, 2)))\n",
    "\n",
    "# Second convolution layer and pooling\n",
    "classifier.add(Conv2D(32, (3, 3), activation='relu'))\n",
    "\n",
    "# input_shape is going to be the pooled feature maps from the previous convolution layer\n",
    "classifier.add(MaxPooling2D(pool_size=(2, 2)))\n",
    "\n",
    "# Flattening the layers\n",
    "classifier.add(Flatten())\n",
    "\n"
   ]
  },
  {
   "cell_type": "markdown",
   "metadata": {},
   "source": [
    "**Adding Dense Layers**"
   ]
  },
  {
   "cell_type": "code",
   "execution_count": 9,
   "metadata": {},
   "outputs": [],
   "source": [
    "# Adding a fully connected layer\n",
    "classifier.add(Dense(units=128, activation='relu'))\n",
    "classifier.add(Dense(units=5, activation='softmax')) # softmax for more than 2"
   ]
  },
  {
   "cell_type": "code",
   "execution_count": 8,
   "metadata": {
    "id": "QNCisXGE5pIE",
    "outputId": "3753599e-dc4d-4005-b574-50e3c2efc1fb"
   },
   "outputs": [
    {
     "name": "stdout",
     "output_type": "stream",
     "text": [
      "Model: \"sequential\"\n",
      "_________________________________________________________________\n",
      "Layer (type)                 Output Shape              Param #   \n",
      "=================================================================\n",
      "conv2d (Conv2D)              (None, 62, 62, 32)        896       \n",
      "_________________________________________________________________\n",
      "max_pooling2d (MaxPooling2D) (None, 31, 31, 32)        0         \n",
      "_________________________________________________________________\n",
      "conv2d_1 (Conv2D)            (None, 29, 29, 32)        9248      \n",
      "_________________________________________________________________\n",
      "max_pooling2d_1 (MaxPooling2 (None, 14, 14, 32)        0         \n",
      "_________________________________________________________________\n",
      "flatten (Flatten)            (None, 6272)              0         \n",
      "_________________________________________________________________\n",
      "dense (Dense)                (None, 128)               802944    \n",
      "_________________________________________________________________\n",
      "dense_1 (Dense)              (None, 5)                 645       \n",
      "=================================================================\n",
      "Total params: 813,733\n",
      "Trainable params: 813,733\n",
      "Non-trainable params: 0\n",
      "_________________________________________________________________\n"
     ]
    }
   ],
   "source": [
    "classifier.summary()"
   ]
  },
  {
   "cell_type": "markdown",
   "metadata": {},
   "source": [
    "**Compiling the model**"
   ]
  },
  {
   "cell_type": "code",
   "execution_count": 10,
   "metadata": {
    "id": "L0sf79GD5pIH"
   },
   "outputs": [],
   "source": [
    "classifier.compile(optimizer='adam', loss='sparse_categorical_crossentropy', metrics=['accuracy']) "
   ]
  },
  {
   "cell_type": "markdown",
   "metadata": {},
   "source": [
    "**Fitting the model-->TRAIN THE MODEL**"
   ]
  },
  {
   "cell_type": "code",
   "execution_count": 11,
   "metadata": {
    "id": "l8JLV16x5pIM",
    "outputId": "69497dfa-dd17-4320-9c4d-b88e659ff75e",
    "scrolled": true
   },
   "outputs": [
    {
     "name": "stdout",
     "output_type": "stream",
     "text": [
      "WARNING:tensorflow:From C:\\Users\\Naveena\\AppData\\Local\\Temp\\ipykernel_20984\\4010284948.py:3: Model.fit_generator (from tensorflow.python.keras.engine.training) is deprecated and will be removed in a future version.\n",
      "Instructions for updating:\n",
      "Please use Model.fit, which supports generators.\n",
      "Epoch 1/20\n",
      "526/526 [==============================] - 11s 21ms/step - loss: 0.1169 - accuracy: 0.9596 - val_loss: 0.0206 - val_accuracy: 1.0000\n",
      "Epoch 2/20\n",
      "526/526 [==============================] - 8s 15ms/step - loss: 0.0856 - accuracy: 0.9772 - val_loss: 0.0221 - val_accuracy: 0.9972\n",
      "Epoch 3/20\n",
      "526/526 [==============================] - 7s 14ms/step - loss: 0.0148 - accuracy: 0.9947 - val_loss: 0.0331 - val_accuracy: 0.9839\n",
      "Epoch 4/20\n",
      "526/526 [==============================] - 7s 14ms/step - loss: 1.8067e-04 - accuracy: 1.0000 - val_loss: 0.0027 - val_accuracy: 1.0000\n",
      "Epoch 5/20\n",
      "526/526 [==============================] - 7s 14ms/step - loss: 1.0031e-04 - accuracy: 1.0000 - val_loss: 0.0073 - val_accuracy: 0.9981\n",
      "Epoch 6/20\n",
      "526/526 [==============================] - 7s 14ms/step - loss: 0.0245 - accuracy: 0.9939 - val_loss: 0.0074 - val_accuracy: 1.0000\n",
      "Epoch 7/20\n",
      "526/526 [==============================] - 8s 14ms/step - loss: 0.0580 - accuracy: 0.9840 - val_loss: 0.2397 - val_accuracy: 0.9744\n",
      "Epoch 8/20\n",
      "526/526 [==============================] - 7s 14ms/step - loss: 3.2553e-04 - accuracy: 1.0000 - val_loss: 0.2157 - val_accuracy: 0.9773\n",
      "Epoch 9/20\n",
      "526/526 [==============================] - 7s 14ms/step - loss: 2.6627e-05 - accuracy: 1.0000 - val_loss: 0.2010 - val_accuracy: 0.9773\n",
      "Epoch 10/20\n",
      "526/526 [==============================] - 7s 14ms/step - loss: 1.5926e-05 - accuracy: 1.0000 - val_loss: 0.1599 - val_accuracy: 0.9773\n",
      "Epoch 11/20\n",
      "526/526 [==============================] - 7s 14ms/step - loss: 9.3930e-06 - accuracy: 1.0000 - val_loss: 0.1757 - val_accuracy: 0.9773\n",
      "Epoch 12/20\n",
      "526/526 [==============================] - 7s 14ms/step - loss: 7.8250e-06 - accuracy: 1.0000 - val_loss: 0.1783 - val_accuracy: 0.9773\n",
      "Epoch 13/20\n",
      "526/526 [==============================] - 7s 14ms/step - loss: 4.2709e-06 - accuracy: 1.0000 - val_loss: 0.1765 - val_accuracy: 0.9773\n",
      "Epoch 14/20\n",
      "526/526 [==============================] - 7s 14ms/step - loss: 6.1565e-06 - accuracy: 1.0000 - val_loss: 0.1773 - val_accuracy: 0.9773\n",
      "Epoch 15/20\n",
      "526/526 [==============================] - 7s 14ms/step - loss: 3.1369e-06 - accuracy: 1.0000 - val_loss: 0.1760 - val_accuracy: 0.9773\n",
      "Epoch 16/20\n",
      "526/526 [==============================] - 7s 14ms/step - loss: 2.9904e-06 - accuracy: 1.0000 - val_loss: 0.1899 - val_accuracy: 0.9773\n",
      "Epoch 17/20\n",
      "526/526 [==============================] - 7s 14ms/step - loss: 2.4046e-06 - accuracy: 1.0000 - val_loss: 0.1607 - val_accuracy: 0.9773\n",
      "Epoch 18/20\n",
      "526/526 [==============================] - 7s 14ms/step - loss: 1.0244e-06 - accuracy: 1.0000 - val_loss: 0.1692 - val_accuracy: 0.9773\n",
      "Epoch 19/20\n",
      "526/526 [==============================] - 7s 14ms/step - loss: 8.3353e-07 - accuracy: 1.0000 - val_loss: 0.1723 - val_accuracy: 0.9773\n",
      "Epoch 20/20\n",
      "526/526 [==============================] - 7s 14ms/step - loss: 6.2663e-07 - accuracy: 1.0000 - val_loss: 0.1643 - val_accuracy: 0.9773\n"
     ]
    },
    {
     "data": {
      "text/plain": [
       "<tensorflow.python.keras.callbacks.History at 0x17896e9d248>"
      ]
     },
     "execution_count": 11,
     "metadata": {},
     "output_type": "execute_result"
    }
   ],
   "source": [
    "classifier.fit_generator(\n",
    "        generator=x_train,steps_per_epoch = len(x_train),\n",
    "        epochs=20, validation_data=x_test,validation_steps = len(x_test))"
   ]
  },
  {
   "cell_type": "markdown",
   "metadata": {},
   "source": [
    "**SAVE the model**"
   ]
  },
  {
   "cell_type": "code",
   "execution_count": 12,
   "metadata": {
    "id": "qAJYdsrl5pIQ"
   },
   "outputs": [],
   "source": [
    "classifier.save('nutrition.h5')"
   ]
  },
  {
   "cell_type": "markdown",
   "metadata": {},
   "source": [
    "**TESTING the model**"
   ]
  },
  {
   "cell_type": "code",
   "execution_count": 13,
   "metadata": {
    "id": "3tJkyuyz5pIR"
   },
   "outputs": [],
   "source": [
    "from tensorflow.keras.models import load_model\n",
    "from keras.preprocessing import image\n",
    "model = load_model(\"nutrition.h5\")"
   ]
  },
  {
   "cell_type": "code",
   "execution_count": 14,
   "metadata": {
    "id": "lSQ6tnsR5pIc",
    "outputId": "0ffb0001-eb70-42f8-d2e9-93cfde566c05"
   },
   "outputs": [
    {
     "name": "stdout",
     "output_type": "stream",
     "text": [
      "WARNING:tensorflow:From C:\\Users\\Naveena\\AppData\\Local\\Temp\\ipykernel_20984\\2627960120.py:5: Sequential.predict_classes (from tensorflow.python.keras.engine.sequential) is deprecated and will be removed after 2021-01-01.\n",
      "Instructions for updating:\n",
      "Please use instead:* `np.argmax(model.predict(x), axis=-1)`,   if your model does multi-class classification   (e.g. if it uses a `softmax` last-layer activation).* `(model.predict(x) > 0.5).astype(\"int32\")`,   if your model does binary classification   (e.g. if it uses a `sigmoid` last-layer activation).\n"
     ]
    },
    {
     "data": {
      "text/plain": [
       "array([1], dtype=int64)"
      ]
     },
     "execution_count": 14,
     "metadata": {},
     "output_type": "execute_result"
    }
   ],
   "source": [
    "img = image.load_img(r\"C:\\Users\\Naveena\\Desktop\\IBM\\datasets\\Nutrition Analysis Using Image Classification-20221008T183521Z-001\\Nutrition Analysis Using Image Classification\\Dataset\\TEST_SET\\BANANA\\12_100.jpg\",\n",
    "                     grayscale=False,target_size= (64,64))#loading of the image\n",
    "x = image.img_to_array(img)\n",
    "x = np.expand_dims(x,axis = 0)\n",
    "pred = model.predict_classes(x)\n",
    "pred"
   ]
  },
  {
   "cell_type": "code",
   "execution_count": 15,
   "metadata": {
    "id": "EazH0bQ05pIc",
    "outputId": "4ee9e9f9-f628-447c-80a9-9d4a86020316"
   },
   "outputs": [
    {
     "data": {
      "text/plain": [
       "'BANANA'"
      ]
     },
     "execution_count": 15,
     "metadata": {},
     "output_type": "execute_result"
    }
   ],
   "source": [
    "index=['APPLES', 'BANANA', 'ORANGE','PINEAPPLE','WATERMELON']\n",
    "result=str(index[pred[0]])\n",
    "result"
   ]
  },
  {
   "cell_type": "code",
   "execution_count": 16,
   "metadata": {
    "id": "ImD8ff9z5pIe"
   },
   "outputs": [
    {
     "name": "stdout",
     "output_type": "stream",
     "text": [
      "BANANA - Calories: 112, Fat: 0 grams, Protein: 1 gram and Fiber: 3 grams\n"
     ]
    }
   ],
   "source": [
    "if(result=='BANANA'):\n",
    "    print('BANANA - Calories: 112, Fat: 0 grams, Protein: 1 gram and Fiber: 3 grams')\n",
    "elif(result=='APPLE'):\n",
    "    print('APPLE - Calories: 104, Vitamin C: 10% of the Daily Value, Carbs: 28 grams and Fiber: 5 grams')\n",
    "elif(result=='PINEAPPLE'):\n",
    "    print('PINEAPPLE - Calories: 83, Fat: 1.7 grams, Protein: 1 gram and Fiber: 2.3 grams')\n",
    "elif(result=='ORANGE'):\n",
    "    print('ORANGE - Calories: 66, Protein: 1.3 grams, Carbs: 14.8 grams and Carbs: 14.8 grams')\n",
    "elif(result=='Watermelon'):\n",
    "    print('WATERMELON - Calories: 46, Protein: 0.9 grams, Fat: 0.2 grams and Fiber: 0.6 grams')\n"
   ]
  },
  {
   "cell_type": "code",
   "execution_count": null,
   "metadata": {},
   "outputs": [],
   "source": []
  }
 ],
 "metadata": {
  "colab": {
   "provenance": []
  },
  "kernelspec": {
   "display_name": "new",
   "language": "python",
   "name": "new"
  },
  "language_info": {
   "codemirror_mode": {
    "name": "ipython",
    "version": 3
   },
   "file_extension": ".py",
   "mimetype": "text/x-python",
   "name": "python",
   "nbconvert_exporter": "python",
   "pygments_lexer": "ipython3",
   "version": "3.7.13"
  }
 },
 "nbformat": 4,
 "nbformat_minor": 1
}
